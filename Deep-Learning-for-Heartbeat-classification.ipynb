{
 "cells": [
  {
   "cell_type": "code",
   "execution_count": 10,
   "metadata": {},
   "outputs": [],
   "source": [
    "# Median Filters\n",
    "\n",
    "\n",
    "def median_filter(data, filter_size):\n",
    "    temp = []\n",
    "    indexer = filter_size // 2\n",
    "    for i in range(len(data)):\n",
    "\n",
    "        for j in range(len(data[0])):\n",
    "\n",
    "            for z in range(filter_size):\n",
    "                if i + z - indexer < 0 or i + z - indexer > len(data) - 1:\n",
    "                    for c in range(filter_size):\n",
    "                        temp.append(0)\n",
    "                else:\n",
    "                    if j + z - indexer < 0 or j + indexer > len(data[0]) - 1:\n",
    "                        temp.append(0)\n",
    "                    else:\n",
    "                        for k in range(filter_size):\n",
    "                            temp.append(data[i + z - indexer][j + k - indexer])\n",
    "\n",
    "            temp.sort()\n",
    "            data[i][j] = temp[len(temp) // 2]\n",
    "            temp = []\n",
    "    return data"
   ]
  },
  {
   "cell_type": "code",
   "execution_count": 35,
   "metadata": {},
   "outputs": [
    {
     "data": {
      "text/plain": [
       "array([[0., 0., 0., ..., 0., 0., 0.]])"
      ]
     },
     "execution_count": 35,
     "metadata": {},
     "output_type": "execute_result"
    }
   ],
   "source": [
    "import pandas as pd\n",
    "import numpy as np\n",
    "from numpy import genfromtxt\n",
    "import scipy as sc\n",
    "from scipy.signal import medfilt\n",
    "\n",
    "df = pd.read_csv(\"C:\\\\github\\\\Deep-Learning-for-Heartbeat-classification\\\\mitbih_database\\\\205.csv\")\n",
    "# print(df1)\n",
    "\n",
    "\n",
    "MLII = df[df.columns[1]]\n",
    "# print(MLII)\n",
    "\n",
    "\n",
    "\n",
    "data = genfromtxt(\"C:\\\\github\\\\Deep-Learning-for-Heartbeat-classification\\\\mitbih_database\\\\205.txt\", delimiter = ',')\n",
    "# data = genfromtxt(\"C:\\\\github\\\\Deep-Learning-for-Heartbeat-classification\\\\mitbih_database\\\\205.txt\", delimiter = ',')\n",
    "\n",
    "MLII = []\n",
    "MLII.append(data.tolist()[0:4000])\n",
    "\n",
    "# print(MLII)\n",
    "test = [[99999999937, 9999999935, 999999937, 999999929], [999999935, 999999927, 999999931, 999999927]]\n",
    "\n",
    "medfilt(MLII, 5)\n",
    "\n",
    "\n",
    "# median_600 = median_filter(MLII, 3)\n",
    "# print(median_600)"
   ]
  },
  {
   "cell_type": "code",
   "execution_count": null,
   "metadata": {},
   "outputs": [],
   "source": []
  }
 ],
 "metadata": {
  "kernelspec": {
   "display_name": "Python 3",
   "language": "python",
   "name": "python3"
  },
  "language_info": {
   "codemirror_mode": {
    "name": "ipython",
    "version": 3
   },
   "file_extension": ".py",
   "mimetype": "text/x-python",
   "name": "python",
   "nbconvert_exporter": "python",
   "pygments_lexer": "ipython3",
   "version": "3.6.4"
  }
 },
 "nbformat": 4,
 "nbformat_minor": 2
}
