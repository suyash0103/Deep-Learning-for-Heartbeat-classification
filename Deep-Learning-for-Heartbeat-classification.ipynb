{
 "cells": [
  {
   "cell_type": "code",
   "execution_count": 1,
   "metadata": {},
   "outputs": [],
   "source": [
    "import pandas as pd\n",
    "import numpy as np\n",
    "from numpy import genfromtxt\n",
    "import scipy as sc\n",
    "from scipy.signal import medfilt\n",
    "from scipy.signal import find_peaks\n",
    "from scipy.signal import find_peaks_cwt\n",
    "import sys\n",
    "import numpy"
   ]
  },
  {
   "cell_type": "code",
   "execution_count": 5,
   "metadata": {},
   "outputs": [
    {
     "name": "stdout",
     "output_type": "stream",
     "text": [
      "[868. 871. 873. ... 906. 903. 903.]\n",
      "[868. 871. 873. ... 906. 903. 903.]\n",
      "[868. 871. 873. ... 906. 903. 903.]\n"
     ]
    }
   ],
   "source": [
    "# Median Filter on V1 Lead \n",
    "\n",
    "df = pd.read_csv(\"C:\\\\github\\\\Deep-Learning-for-Heartbeat-classification\\\\mitbih_database\\\\205.csv\")\n",
    "# print(df)\n",
    "data= df[df.columns[2]].to_numpy()\n",
    "# print(data)\n",
    "num_600 = medfilt(data, 601)\n",
    "print(num_600)\n",
    "\n",
    "num_200 = medfilt(num_600,201)\n",
    "print(num_200)\n",
    "\n",
    "num_28 = medfilt(num_200, 27)\n",
    "print(num_28)"
   ]
  },
  {
   "cell_type": "code",
   "execution_count": null,
   "metadata": {},
   "outputs": [],
   "source": []
  }
 ],
 "metadata": {
  "kernelspec": {
   "display_name": "Python 3",
   "language": "python",
   "name": "python3"
  },
  "language_info": {
   "codemirror_mode": {
    "name": "ipython",
    "version": 3
   },
   "file_extension": ".py",
   "mimetype": "text/x-python",
   "name": "python",
   "nbconvert_exporter": "python",
   "pygments_lexer": "ipython3",
   "version": "3.6.4"
  }
 },
 "nbformat": 4,
 "nbformat_minor": 2
}
